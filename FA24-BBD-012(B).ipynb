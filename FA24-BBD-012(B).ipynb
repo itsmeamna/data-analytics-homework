{
 "cells": [
  {
   "cell_type": "code",
   "execution_count": 1,
   "id": "8c398b81-4588-4b2d-bb41-59be07d81fb2",
   "metadata": {},
   "outputs": [],
   "source": [
    "import pandas as pd"
   ]
  },
  {
   "cell_type": "code",
   "execution_count": 5,
   "id": "070eeb60-01e4-4730-a3cd-7b21ea78d3ac",
   "metadata": {},
   "outputs": [],
   "source": [
    "df = pd.read_csv(\"melb_data.csv\")"
   ]
  },
  {
   "cell_type": "code",
   "execution_count": 7,
   "id": "ad48265f-97bf-4d67-b6ff-1aebaeba337f",
   "metadata": {},
   "outputs": [
    {
     "data": {
      "text/html": [
       "<div>\n",
       "<style scoped>\n",
       "    .dataframe tbody tr th:only-of-type {\n",
       "        vertical-align: middle;\n",
       "    }\n",
       "\n",
       "    .dataframe tbody tr th {\n",
       "        vertical-align: top;\n",
       "    }\n",
       "\n",
       "    .dataframe thead th {\n",
       "        text-align: right;\n",
       "    }\n",
       "</style>\n",
       "<table border=\"1\" class=\"dataframe\">\n",
       "  <thead>\n",
       "    <tr style=\"text-align: right;\">\n",
       "      <th></th>\n",
       "      <th>Suburb</th>\n",
       "      <th>Address</th>\n",
       "      <th>Rooms</th>\n",
       "      <th>Type</th>\n",
       "      <th>Price</th>\n",
       "      <th>Method</th>\n",
       "      <th>SellerG</th>\n",
       "      <th>Date</th>\n",
       "      <th>Distance</th>\n",
       "      <th>Postcode</th>\n",
       "      <th>...</th>\n",
       "      <th>Bathroom</th>\n",
       "      <th>Car</th>\n",
       "      <th>Landsize</th>\n",
       "      <th>BuildingArea</th>\n",
       "      <th>YearBuilt</th>\n",
       "      <th>CouncilArea</th>\n",
       "      <th>Lattitude</th>\n",
       "      <th>Longtitude</th>\n",
       "      <th>Regionname</th>\n",
       "      <th>Propertycount</th>\n",
       "    </tr>\n",
       "  </thead>\n",
       "  <tbody>\n",
       "    <tr>\n",
       "      <th>0</th>\n",
       "      <td>Abbotsford</td>\n",
       "      <td>85 Turner St</td>\n",
       "      <td>2</td>\n",
       "      <td>h</td>\n",
       "      <td>1480000.0</td>\n",
       "      <td>S</td>\n",
       "      <td>Biggin</td>\n",
       "      <td>3/12/2016</td>\n",
       "      <td>2.5</td>\n",
       "      <td>3067.0</td>\n",
       "      <td>...</td>\n",
       "      <td>1.0</td>\n",
       "      <td>1.0</td>\n",
       "      <td>202.0</td>\n",
       "      <td>NaN</td>\n",
       "      <td>NaN</td>\n",
       "      <td>Yarra</td>\n",
       "      <td>-37.79960</td>\n",
       "      <td>144.99840</td>\n",
       "      <td>Northern Metropolitan</td>\n",
       "      <td>4019.0</td>\n",
       "    </tr>\n",
       "    <tr>\n",
       "      <th>1</th>\n",
       "      <td>Abbotsford</td>\n",
       "      <td>25 Bloomburg St</td>\n",
       "      <td>2</td>\n",
       "      <td>h</td>\n",
       "      <td>1035000.0</td>\n",
       "      <td>S</td>\n",
       "      <td>Biggin</td>\n",
       "      <td>4/02/2016</td>\n",
       "      <td>2.5</td>\n",
       "      <td>3067.0</td>\n",
       "      <td>...</td>\n",
       "      <td>1.0</td>\n",
       "      <td>0.0</td>\n",
       "      <td>156.0</td>\n",
       "      <td>79.0</td>\n",
       "      <td>1900.0</td>\n",
       "      <td>Yarra</td>\n",
       "      <td>-37.80790</td>\n",
       "      <td>144.99340</td>\n",
       "      <td>Northern Metropolitan</td>\n",
       "      <td>4019.0</td>\n",
       "    </tr>\n",
       "    <tr>\n",
       "      <th>2</th>\n",
       "      <td>Abbotsford</td>\n",
       "      <td>5 Charles St</td>\n",
       "      <td>3</td>\n",
       "      <td>h</td>\n",
       "      <td>1465000.0</td>\n",
       "      <td>SP</td>\n",
       "      <td>Biggin</td>\n",
       "      <td>4/03/2017</td>\n",
       "      <td>2.5</td>\n",
       "      <td>3067.0</td>\n",
       "      <td>...</td>\n",
       "      <td>2.0</td>\n",
       "      <td>0.0</td>\n",
       "      <td>134.0</td>\n",
       "      <td>150.0</td>\n",
       "      <td>1900.0</td>\n",
       "      <td>Yarra</td>\n",
       "      <td>-37.80930</td>\n",
       "      <td>144.99440</td>\n",
       "      <td>Northern Metropolitan</td>\n",
       "      <td>4019.0</td>\n",
       "    </tr>\n",
       "    <tr>\n",
       "      <th>3</th>\n",
       "      <td>Abbotsford</td>\n",
       "      <td>40 Federation La</td>\n",
       "      <td>3</td>\n",
       "      <td>h</td>\n",
       "      <td>850000.0</td>\n",
       "      <td>PI</td>\n",
       "      <td>Biggin</td>\n",
       "      <td>4/03/2017</td>\n",
       "      <td>2.5</td>\n",
       "      <td>3067.0</td>\n",
       "      <td>...</td>\n",
       "      <td>2.0</td>\n",
       "      <td>1.0</td>\n",
       "      <td>94.0</td>\n",
       "      <td>NaN</td>\n",
       "      <td>NaN</td>\n",
       "      <td>Yarra</td>\n",
       "      <td>-37.79690</td>\n",
       "      <td>144.99690</td>\n",
       "      <td>Northern Metropolitan</td>\n",
       "      <td>4019.0</td>\n",
       "    </tr>\n",
       "    <tr>\n",
       "      <th>4</th>\n",
       "      <td>Abbotsford</td>\n",
       "      <td>55a Park St</td>\n",
       "      <td>4</td>\n",
       "      <td>h</td>\n",
       "      <td>1600000.0</td>\n",
       "      <td>VB</td>\n",
       "      <td>Nelson</td>\n",
       "      <td>4/06/2016</td>\n",
       "      <td>2.5</td>\n",
       "      <td>3067.0</td>\n",
       "      <td>...</td>\n",
       "      <td>1.0</td>\n",
       "      <td>2.0</td>\n",
       "      <td>120.0</td>\n",
       "      <td>142.0</td>\n",
       "      <td>2014.0</td>\n",
       "      <td>Yarra</td>\n",
       "      <td>-37.80720</td>\n",
       "      <td>144.99410</td>\n",
       "      <td>Northern Metropolitan</td>\n",
       "      <td>4019.0</td>\n",
       "    </tr>\n",
       "    <tr>\n",
       "      <th>...</th>\n",
       "      <td>...</td>\n",
       "      <td>...</td>\n",
       "      <td>...</td>\n",
       "      <td>...</td>\n",
       "      <td>...</td>\n",
       "      <td>...</td>\n",
       "      <td>...</td>\n",
       "      <td>...</td>\n",
       "      <td>...</td>\n",
       "      <td>...</td>\n",
       "      <td>...</td>\n",
       "      <td>...</td>\n",
       "      <td>...</td>\n",
       "      <td>...</td>\n",
       "      <td>...</td>\n",
       "      <td>...</td>\n",
       "      <td>...</td>\n",
       "      <td>...</td>\n",
       "      <td>...</td>\n",
       "      <td>...</td>\n",
       "      <td>...</td>\n",
       "    </tr>\n",
       "    <tr>\n",
       "      <th>13575</th>\n",
       "      <td>Wheelers Hill</td>\n",
       "      <td>12 Strada Cr</td>\n",
       "      <td>4</td>\n",
       "      <td>h</td>\n",
       "      <td>1245000.0</td>\n",
       "      <td>S</td>\n",
       "      <td>Barry</td>\n",
       "      <td>26/08/2017</td>\n",
       "      <td>16.7</td>\n",
       "      <td>3150.0</td>\n",
       "      <td>...</td>\n",
       "      <td>2.0</td>\n",
       "      <td>2.0</td>\n",
       "      <td>652.0</td>\n",
       "      <td>NaN</td>\n",
       "      <td>1981.0</td>\n",
       "      <td>NaN</td>\n",
       "      <td>-37.90562</td>\n",
       "      <td>145.16761</td>\n",
       "      <td>South-Eastern Metropolitan</td>\n",
       "      <td>7392.0</td>\n",
       "    </tr>\n",
       "    <tr>\n",
       "      <th>13576</th>\n",
       "      <td>Williamstown</td>\n",
       "      <td>77 Merrett Dr</td>\n",
       "      <td>3</td>\n",
       "      <td>h</td>\n",
       "      <td>1031000.0</td>\n",
       "      <td>SP</td>\n",
       "      <td>Williams</td>\n",
       "      <td>26/08/2017</td>\n",
       "      <td>6.8</td>\n",
       "      <td>3016.0</td>\n",
       "      <td>...</td>\n",
       "      <td>2.0</td>\n",
       "      <td>2.0</td>\n",
       "      <td>333.0</td>\n",
       "      <td>133.0</td>\n",
       "      <td>1995.0</td>\n",
       "      <td>NaN</td>\n",
       "      <td>-37.85927</td>\n",
       "      <td>144.87904</td>\n",
       "      <td>Western Metropolitan</td>\n",
       "      <td>6380.0</td>\n",
       "    </tr>\n",
       "    <tr>\n",
       "      <th>13577</th>\n",
       "      <td>Williamstown</td>\n",
       "      <td>83 Power St</td>\n",
       "      <td>3</td>\n",
       "      <td>h</td>\n",
       "      <td>1170000.0</td>\n",
       "      <td>S</td>\n",
       "      <td>Raine</td>\n",
       "      <td>26/08/2017</td>\n",
       "      <td>6.8</td>\n",
       "      <td>3016.0</td>\n",
       "      <td>...</td>\n",
       "      <td>2.0</td>\n",
       "      <td>4.0</td>\n",
       "      <td>436.0</td>\n",
       "      <td>NaN</td>\n",
       "      <td>1997.0</td>\n",
       "      <td>NaN</td>\n",
       "      <td>-37.85274</td>\n",
       "      <td>144.88738</td>\n",
       "      <td>Western Metropolitan</td>\n",
       "      <td>6380.0</td>\n",
       "    </tr>\n",
       "    <tr>\n",
       "      <th>13578</th>\n",
       "      <td>Williamstown</td>\n",
       "      <td>96 Verdon St</td>\n",
       "      <td>4</td>\n",
       "      <td>h</td>\n",
       "      <td>2500000.0</td>\n",
       "      <td>PI</td>\n",
       "      <td>Sweeney</td>\n",
       "      <td>26/08/2017</td>\n",
       "      <td>6.8</td>\n",
       "      <td>3016.0</td>\n",
       "      <td>...</td>\n",
       "      <td>1.0</td>\n",
       "      <td>5.0</td>\n",
       "      <td>866.0</td>\n",
       "      <td>157.0</td>\n",
       "      <td>1920.0</td>\n",
       "      <td>NaN</td>\n",
       "      <td>-37.85908</td>\n",
       "      <td>144.89299</td>\n",
       "      <td>Western Metropolitan</td>\n",
       "      <td>6380.0</td>\n",
       "    </tr>\n",
       "    <tr>\n",
       "      <th>13579</th>\n",
       "      <td>Yarraville</td>\n",
       "      <td>6 Agnes St</td>\n",
       "      <td>4</td>\n",
       "      <td>h</td>\n",
       "      <td>1285000.0</td>\n",
       "      <td>SP</td>\n",
       "      <td>Village</td>\n",
       "      <td>26/08/2017</td>\n",
       "      <td>6.3</td>\n",
       "      <td>3013.0</td>\n",
       "      <td>...</td>\n",
       "      <td>1.0</td>\n",
       "      <td>1.0</td>\n",
       "      <td>362.0</td>\n",
       "      <td>112.0</td>\n",
       "      <td>1920.0</td>\n",
       "      <td>NaN</td>\n",
       "      <td>-37.81188</td>\n",
       "      <td>144.88449</td>\n",
       "      <td>Western Metropolitan</td>\n",
       "      <td>6543.0</td>\n",
       "    </tr>\n",
       "  </tbody>\n",
       "</table>\n",
       "<p>13580 rows × 21 columns</p>\n",
       "</div>"
      ],
      "text/plain": [
       "              Suburb           Address  Rooms Type      Price Method  \\\n",
       "0         Abbotsford      85 Turner St      2    h  1480000.0      S   \n",
       "1         Abbotsford   25 Bloomburg St      2    h  1035000.0      S   \n",
       "2         Abbotsford      5 Charles St      3    h  1465000.0     SP   \n",
       "3         Abbotsford  40 Federation La      3    h   850000.0     PI   \n",
       "4         Abbotsford       55a Park St      4    h  1600000.0     VB   \n",
       "...              ...               ...    ...  ...        ...    ...   \n",
       "13575  Wheelers Hill      12 Strada Cr      4    h  1245000.0      S   \n",
       "13576   Williamstown     77 Merrett Dr      3    h  1031000.0     SP   \n",
       "13577   Williamstown       83 Power St      3    h  1170000.0      S   \n",
       "13578   Williamstown      96 Verdon St      4    h  2500000.0     PI   \n",
       "13579     Yarraville        6 Agnes St      4    h  1285000.0     SP   \n",
       "\n",
       "        SellerG        Date  Distance  Postcode  ...  Bathroom  Car  Landsize  \\\n",
       "0        Biggin   3/12/2016       2.5    3067.0  ...       1.0  1.0     202.0   \n",
       "1        Biggin   4/02/2016       2.5    3067.0  ...       1.0  0.0     156.0   \n",
       "2        Biggin   4/03/2017       2.5    3067.0  ...       2.0  0.0     134.0   \n",
       "3        Biggin   4/03/2017       2.5    3067.0  ...       2.0  1.0      94.0   \n",
       "4        Nelson   4/06/2016       2.5    3067.0  ...       1.0  2.0     120.0   \n",
       "...         ...         ...       ...       ...  ...       ...  ...       ...   \n",
       "13575     Barry  26/08/2017      16.7    3150.0  ...       2.0  2.0     652.0   \n",
       "13576  Williams  26/08/2017       6.8    3016.0  ...       2.0  2.0     333.0   \n",
       "13577     Raine  26/08/2017       6.8    3016.0  ...       2.0  4.0     436.0   \n",
       "13578   Sweeney  26/08/2017       6.8    3016.0  ...       1.0  5.0     866.0   \n",
       "13579   Village  26/08/2017       6.3    3013.0  ...       1.0  1.0     362.0   \n",
       "\n",
       "       BuildingArea  YearBuilt  CouncilArea Lattitude  Longtitude  \\\n",
       "0               NaN        NaN        Yarra -37.79960   144.99840   \n",
       "1              79.0     1900.0        Yarra -37.80790   144.99340   \n",
       "2             150.0     1900.0        Yarra -37.80930   144.99440   \n",
       "3               NaN        NaN        Yarra -37.79690   144.99690   \n",
       "4             142.0     2014.0        Yarra -37.80720   144.99410   \n",
       "...             ...        ...          ...       ...         ...   \n",
       "13575           NaN     1981.0          NaN -37.90562   145.16761   \n",
       "13576         133.0     1995.0          NaN -37.85927   144.87904   \n",
       "13577           NaN     1997.0          NaN -37.85274   144.88738   \n",
       "13578         157.0     1920.0          NaN -37.85908   144.89299   \n",
       "13579         112.0     1920.0          NaN -37.81188   144.88449   \n",
       "\n",
       "                       Regionname Propertycount  \n",
       "0           Northern Metropolitan        4019.0  \n",
       "1           Northern Metropolitan        4019.0  \n",
       "2           Northern Metropolitan        4019.0  \n",
       "3           Northern Metropolitan        4019.0  \n",
       "4           Northern Metropolitan        4019.0  \n",
       "...                           ...           ...  \n",
       "13575  South-Eastern Metropolitan        7392.0  \n",
       "13576        Western Metropolitan        6380.0  \n",
       "13577        Western Metropolitan        6380.0  \n",
       "13578        Western Metropolitan        6380.0  \n",
       "13579        Western Metropolitan        6543.0  \n",
       "\n",
       "[13580 rows x 21 columns]"
      ]
     },
     "execution_count": 7,
     "metadata": {},
     "output_type": "execute_result"
    }
   ],
   "source": [
    "df"
   ]
  },
  {
   "cell_type": "code",
   "execution_count": null,
   "id": "9c3fcd2e-bea2-4ae8-8faa-aeda6bf82f8c",
   "metadata": {},
   "outputs": [],
   "source": [
    "# task 1"
   ]
  },
  {
   "cell_type": "code",
   "execution_count": 9,
   "id": "ed4c1700-a63c-4971-8d86-c3ae1ff85d87",
   "metadata": {},
   "outputs": [],
   "source": [
    "# QUESTION 1\n",
    "missing_percent = df.isna().sum() / len(df) * 100\n",
    "columns_to_drop = missing_percent[missing_percent > 20].index\n",
    "df.drop(columns=columns_to_drop, inplace=True)\n",
    "df.fillna(df.select_dtypes(include=['number']).median(), inplace=True)\n",
    "for col in df.select_dtypes(include=['object']).columns:\n",
    "    df[col] = df[col].fillna(df[col].mode()[0])"
   ]
  },
  {
   "cell_type": "code",
   "execution_count": 11,
   "id": "987c8fd1-afe0-4c6e-9d01-0b93641b88f9",
   "metadata": {},
   "outputs": [
    {
     "name": "stdout",
     "output_type": "stream",
     "text": [
      "Suburb           0.0\n",
      "Address          0.0\n",
      "Rooms            0.0\n",
      "Type             0.0\n",
      "Price            0.0\n",
      "Method           0.0\n",
      "SellerG          0.0\n",
      "Date             0.0\n",
      "Distance         0.0\n",
      "Postcode         0.0\n",
      "Bedroom2         0.0\n",
      "Bathroom         0.0\n",
      "Car              0.0\n",
      "Landsize         0.0\n",
      "CouncilArea      0.0\n",
      "Lattitude        0.0\n",
      "Longtitude       0.0\n",
      "Regionname       0.0\n",
      "Propertycount    0.0\n",
      "dtype: float64\n"
     ]
    }
   ],
   "source": [
    "#QUESTION 1\n",
    "missing_person=df.isna().sum()/len(df)*100\n",
    "print(missing_person)\n",
    "\n"
   ]
  },
  {
   "cell_type": "code",
   "execution_count": 13,
   "id": "9078917e-4e53-4897-ad7e-ce93d3ab386c",
   "metadata": {},
   "outputs": [],
   "source": [
    "#Question 2\n",
    "numeric_df = df.select_dtypes(include=['number'])\n",
    "df.fillna(numeric_df.median(), inplace=True)"
   ]
  },
  {
   "cell_type": "code",
   "execution_count": 19,
   "id": "71268cce-97f7-4d67-af49-ab02bd416019",
   "metadata": {},
   "outputs": [
    {
     "data": {
      "text/plain": [
       "0            85 Turner St\n",
       "1         25 Bloomburg St\n",
       "2            5 Charles St\n",
       "3        40 Federation La\n",
       "4             55a Park St\n",
       "               ...       \n",
       "12627      74 Lehmanns Rd\n",
       "12628         18 Wigan Cl\n",
       "12629     28 Cranbrook St\n",
       "12630         279 Hyde St\n",
       "12631     96 Pentland Pde\n",
       "Name: Address, Length: 5138, dtype: object"
      ]
     },
     "execution_count": 19,
     "metadata": {},
     "output_type": "execute_result"
    }
   ],
   "source": [
    "#Question 3\n",
    "df[\"SellerG\"].fillna(df[\"SellerG\"].mode()[0], )\n",
    "df[\"Regionname\"].fillna(df[\"Regionname\"].mode()[0], )\n",
    "df[\"Method\"].fillna(df[\"Method\"].mode()[0], )\n",
    "df[\"Type\"].fillna(df[\"Type\"].mode()[0], )\n",
    "df[\"Address\"].fillna(df[\"Address\"].mode()[0], )"
   ]
  },
  {
   "cell_type": "code",
   "execution_count": null,
   "id": "9bf194da-438a-47d2-8b2a-24c975581c85",
   "metadata": {},
   "outputs": [],
   "source": [
    "#task 2\n"
   ]
  },
  {
   "cell_type": "code",
   "execution_count": 21,
   "id": "40b2c8e5-cb38-4d60-a924-408948a3cdff",
   "metadata": {},
   "outputs": [
    {
     "name": "stdout",
     "output_type": "stream",
     "text": [
      "        Suburb          Address  Rooms Type      Price Method        SellerG  \\\n",
      "5257  Richmond       81 Erin St      3    h  1260000.0      S         Biggin   \n",
      "5258  Richmond  52 Lyndhurst St      3    t  1236000.0      S         Jellis   \n",
      "5263  Richmond        7 Bank St      3    h  1600000.0      S  hockingstuart   \n",
      "5264  Richmond      29 Bowen St      3    h  2180000.0     PI           Blue   \n",
      "5266  Richmond      131 Lord St      4    h  3335000.0      S         Jellis   \n",
      "\n",
      "           Date  Distance  Postcode  ...  Bathroom  Car  Landsize  \\\n",
      "5257 2016-03-09       2.6    3121.0  ...       1.0  0.0     203.0   \n",
      "5258 2016-03-09       2.6    3121.0  ...       2.0  1.0     675.0   \n",
      "5263 2016-03-12       2.6    3121.0  ...       2.0  1.0     115.0   \n",
      "5264 2016-03-12       2.6    3121.0  ...       2.0  2.0     345.0   \n",
      "5266 2016-03-12       2.6    3121.0  ...       2.0  2.0     319.0   \n",
      "\n",
      "      CouncilArea Lattitude  Longtitude             Regionname Propertycount  \\\n",
      "5257        Yarra  -37.8166    144.9945  Northern Metropolitan       14949.0   \n",
      "5258        Yarra  -37.8206    145.0003  Northern Metropolitan       14949.0   \n",
      "5263        Yarra  -37.8163    144.9984  Northern Metropolitan       14949.0   \n",
      "5264        Yarra  -37.8159    144.9940  Northern Metropolitan       14949.0   \n",
      "5266        Yarra  -37.8244    145.0044  Northern Metropolitan       14949.0   \n",
      "\n",
      "      Price_per_Room  Year_Sold  \n",
      "5257   420000.000000       2016  \n",
      "5258   412000.000000       2016  \n",
      "5263   533333.333333       2016  \n",
      "5264   726666.666667       2016  \n",
      "5266   833750.000000       2016  \n",
      "\n",
      "[5 rows x 21 columns]\n"
     ]
    }
   ],
   "source": [
    "#Question 1\n",
    "richmond_houses = df[(df[\"Suburb\"] == \"Richmond\") & (df[\"Price\"] > 1000000)]\n",
    "print(richmond_houses.head())"
   ]
  },
  {
   "cell_type": "code",
   "execution_count": 1,
   "id": "77780c9f-c147-4438-83a7-774e7e84e70d",
   "metadata": {},
   "outputs": [
    {
     "ename": "NameError",
     "evalue": "name 'df' is not defined",
     "output_type": "error",
     "traceback": [
      "\u001b[1;31m---------------------------------------------------------------------------\u001b[0m",
      "\u001b[1;31mNameError\u001b[0m                                 Traceback (most recent call last)",
      "Cell \u001b[1;32mIn[1], line 2\u001b[0m\n\u001b[0;32m      1\u001b[0m \u001b[38;5;66;03m#Question 2\u001b[39;00m\n\u001b[1;32m----> 2\u001b[0m df_filtered \u001b[38;5;241m=\u001b[39m df\u001b[38;5;241m.\u001b[39mloc[df[\u001b[38;5;124m\"\u001b[39m\u001b[38;5;124mLandsize\u001b[39m\u001b[38;5;124m\"\u001b[39m] \u001b[38;5;241m>\u001b[39m \u001b[38;5;241m500\u001b[39m, [\u001b[38;5;124m\"\u001b[39m\u001b[38;5;124mPrice\u001b[39m\u001b[38;5;124m\"\u001b[39m, \u001b[38;5;124m\"\u001b[39m\u001b[38;5;124mSuburb\u001b[39m\u001b[38;5;124m\"\u001b[39m, \u001b[38;5;124m\"\u001b[39m\u001b[38;5;124mBuildingArea\u001b[39m\u001b[38;5;124m\"\u001b[39m]]\n\u001b[0;32m      3\u001b[0m \u001b[38;5;28mprint\u001b[39m(df_filtered\u001b[38;5;241m.\u001b[39mhead())\n",
      "\u001b[1;31mNameError\u001b[0m: name 'df' is not defined"
     ]
    }
   ],
   "source": [
    "#Question 2\n",
    "df_filtered = df.loc[df[\"Landsize\"] > 500, [\"Price\", \"Suburb\", \"BuildingArea\"]]\n",
    "print(df_filtered.head())"
   ]
  },
  {
   "cell_type": "code",
   "execution_count": 25,
   "id": "6150dced-6404-4d92-aed3-cc1a4c354872",
   "metadata": {},
   "outputs": [
    {
     "name": "stdout",
     "output_type": "stream",
     "text": [
      "            Suburb         Address  Rooms Type      Price Method   SellerG  \\\n",
      "12557  Middle Park     136 Page St      5    h  6400000.0      S  Marshall   \n",
      "7554      Brighton   161 Church St      5    h  5800000.0     PI   Castran   \n",
      "5631   South Yarra     18 Avoca St      4    h  5700000.0      S   Castran   \n",
      "9233   Middle Park     204 Page St      6    h  5600000.0     PI  Marshall   \n",
      "9179      Hawthorn  17 Fairview St      5    h  5510000.0      S        RT   \n",
      "\n",
      "            Date  Distance  Postcode  ...  Bathroom  Car  Landsize  \\\n",
      "12557 2017-09-09       3.0    3206.0  ...       2.0  1.0     553.0   \n",
      "7554  2017-08-04      11.2    3186.0  ...       4.0  4.0    1276.0   \n",
      "5631  2016-12-11       3.3    3141.0  ...       2.0  0.0     292.0   \n",
      "9233  2017-03-06       3.0    3206.0  ...       4.0  2.0     472.0   \n",
      "9179  2017-03-06       5.3    3122.0  ...       2.0  5.0     820.0   \n",
      "\n",
      "        CouncilArea Lattitude  Longtitude             Regionname  \\\n",
      "12557      Moreland -37.84908   144.95753  Southern Metropolitan   \n",
      "7554        Bayside -37.91640   144.99740  Southern Metropolitan   \n",
      "5631    Stonnington -37.83770   144.98940  Southern Metropolitan   \n",
      "9233   Port Phillip -37.85231   144.96373  Southern Metropolitan   \n",
      "9179     Boroondara -37.83031   145.02973  Southern Metropolitan   \n",
      "\n",
      "      Propertycount  Price_per_Room  Year_Sold  \n",
      "12557        2019.0    1.280000e+06       2017  \n",
      "7554        10579.0    1.160000e+06       2017  \n",
      "5631        14887.0    1.425000e+06       2016  \n",
      "9233         2019.0    9.333333e+05       2017  \n",
      "9179        11308.0    1.102000e+06       2017  \n",
      "\n",
      "[5 rows x 21 columns]\n"
     ]
    }
   ],
   "source": [
    "#QUESTION 3\n",
    "df_sorted = df.sort_values(by=\"Price\", ascending=False)\n",
    "print(df_sorted.head(5))"
   ]
  },
  {
   "cell_type": "code",
   "execution_count": null,
   "id": "90748932-588e-4f12-a1e5-1f1a76a15191",
   "metadata": {},
   "outputs": [],
   "source": [
    "#task 3"
   ]
  },
  {
   "cell_type": "code",
   "execution_count": 29,
   "id": "6e33b4a9-f941-4ca7-8b52-6666774b5572",
   "metadata": {},
   "outputs": [
    {
     "name": "stdout",
     "output_type": "stream",
     "text": [
      "0        740000.000000\n",
      "1        517500.000000\n",
      "2        488333.333333\n",
      "3        283333.333333\n",
      "4        400000.000000\n",
      "             ...      \n",
      "12627    140000.000000\n",
      "12628    182500.000000\n",
      "12629    275333.333333\n",
      "12630    200000.000000\n",
      "12631    366666.666667\n",
      "Name: Price_per_Room, Length: 5138, dtype: float64\n"
     ]
    }
   ],
   "source": [
    "# QUESTION 1\n",
    "df[\"Price_per_Room\"] = df[\"Price\"] / df[\"Rooms\"]\n",
    "print(df[\"Price_per_Room\"])"
   ]
  },
  {
   "cell_type": "code",
   "execution_count": 31,
   "id": "cd76b814-a4d1-4f40-851b-836a932e9463",
   "metadata": {},
   "outputs": [
    {
     "name": "stdout",
     "output_type": "stream",
     "text": [
      "0       2016-03-12\n",
      "1       2016-04-02\n",
      "2       2017-04-03\n",
      "3       2017-04-03\n",
      "4       2016-04-06\n",
      "           ...    \n",
      "12627   2017-09-09\n",
      "12628   2017-09-09\n",
      "12629   2017-09-09\n",
      "12630   2017-09-09\n",
      "12631   2017-09-09\n",
      "Name: Date, Length: 5138, dtype: datetime64[ns]\n"
     ]
    }
   ],
   "source": [
    "# QUESTION 2\n",
    "df[\"Date\"] = pd.to_datetime(df[\"Date\"], dayfirst=True)\n",
    "print(df[\"Date\"])"
   ]
  },
  {
   "cell_type": "code",
   "execution_count": 33,
   "id": "34d74dd3-64d2-4967-844c-9176be3e2140",
   "metadata": {},
   "outputs": [
    {
     "name": "stdout",
     "output_type": "stream",
     "text": [
      "0        2016\n",
      "1        2016\n",
      "2        2017\n",
      "3        2017\n",
      "4        2016\n",
      "         ... \n",
      "12627    2017\n",
      "12628    2017\n",
      "12629    2017\n",
      "12630    2017\n",
      "12631    2017\n",
      "Name: Year_Sold, Length: 5138, dtype: int32\n"
     ]
    }
   ],
   "source": [
    "# QUESTION 3\n",
    "df[\"Year_Sold\"] = df[\"Date\"].dt.year\n",
    "print(df[\"Year_Sold\"])"
   ]
  },
  {
   "cell_type": "code",
   "execution_count": null,
   "id": "f8396f0e-e4fa-4186-9376-50e0813dbaf2",
   "metadata": {},
   "outputs": [],
   "source": [
    "# task 4"
   ]
  },
  {
   "cell_type": "code",
   "execution_count": 37,
   "id": "611f6f94-8095-4f54-b607-1136769630ad",
   "metadata": {},
   "outputs": [
    {
     "name": "stdout",
     "output_type": "stream",
     "text": [
      "Suburb\n",
      "Abbotsford      1.163421e+06\n",
      "Aberfeldie      1.172611e+06\n",
      "Airport West    7.747759e+05\n",
      "Albanvale       4.150000e+05\n",
      "Albert Park     1.902774e+06\n",
      "                    ...     \n",
      "Wollert         5.162500e+05\n",
      "Wonga Park      9.000000e+05\n",
      "Wyndham Vale    4.860000e+05\n",
      "Yallambie       9.319167e+05\n",
      "Yarraville      9.868134e+05\n",
      "Name: Price, Length: 289, dtype: float64\n"
     ]
    }
   ],
   "source": [
    "#QUESTION  1\n",
    "suburb_avg_price = df.groupby(\"Suburb\")[\"Price\"].mean()\n",
    "print(suburb_avg_price)"
   ]
  },
  {
   "cell_type": "code",
   "execution_count": 39,
   "id": "7bf2254c-a7cb-4667-8b27-f40a2ffd084d",
   "metadata": {},
   "outputs": [
    {
     "name": "stdout",
     "output_type": "stream",
     "text": [
      "Suburb\n",
      "Abbotsford      19\n",
      "Aberfeldie      18\n",
      "Airport West    29\n",
      "Albanvale        1\n",
      "Albert Park     31\n",
      "                ..\n",
      "Wollert          4\n",
      "Wonga Park       1\n",
      "Wyndham Vale     3\n",
      "Yallambie        6\n",
      "Yarraville      67\n",
      "Name: Price, Length: 289, dtype: int64\n"
     ]
    }
   ],
   "source": [
    "#QUESTION 2\n",
    "properties_per_suburb = df.groupby(\"Suburb\")[\"Price\"].count()\n",
    "print(properties_per_suburb)"
   ]
  },
  {
   "cell_type": "code",
   "execution_count": 41,
   "id": "dc4775c9-297f-4878-a4ac-c8693f6f58b5",
   "metadata": {},
   "outputs": [
    {
     "name": "stdout",
     "output_type": "stream",
     "text": [
      "Most expensive suburb: Middle Park\n"
     ]
    }
   ],
   "source": [
    "#QUESTION 3\n",
    "most_expensive_suburb = suburb_avg_price.idxmax()\n",
    "print(\"Most expensive suburb:\", most_expensive_suburb)"
   ]
  },
  {
   "cell_type": "code",
   "execution_count": 43,
   "id": "f8d9a404-efef-44c5-b400-200424acd5ee",
   "metadata": {},
   "outputs": [
    {
     "data": {
      "text/plain": [
       "Text(0.5, 0, 'Suburb')"
      ]
     },
     "execution_count": 43,
     "metadata": {},
     "output_type": "execute_result"
    },
    {
     "data": {
      "image/png": "[encoded data removed]",
      "text/plain": [
       "<Figure size 640x480 with 1 Axes>"
      ]
     },
     "metadata": {},
     "output_type": "display_data"
    }
   ],
   "source": [
    "#task 5\n",
    "import matplotlib.pyplot as plt\n",
    "suburb_avg_price.head(10).plot(kind=\"bar\")\n",
    "plt.title(\"Average House Prices in Top 10 Suburbs\")\n",
    "plt.xlabel(\"Suburb\")"
   ]
  }
 ],
 "metadata": {
  "kernelspec": {
   "display_name": "Python 3 (ipykernel)",
   "language": "python",
   "name": "python3"
  },
  "language_info": {
   "codemirror_mode": {
    "name": "ipython",
    "version": 3
   },
   "file_extension": ".py",
   "mimetype": "text/x-python",
   "name": "python",
   "nbconvert_exporter": "python",
   "pygments_lexer": "ipython3",
   "version": "3.12.4"
  }
 },
 "nbformat": 4,
 "nbformat_minor": 5
}
